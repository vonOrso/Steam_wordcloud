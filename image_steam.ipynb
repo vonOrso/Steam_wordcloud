{
 "cells": [
  {
   "cell_type": "code",
   "execution_count": 1,
   "id": "228677f3-a4a3-4f6b-952d-0db1dc90b114",
   "metadata": {},
   "outputs": [],
   "source": [
    "# Displaying graphs\n",
    "import plotly.io as pio\n",
    "pio.renderers.default = 'iframe'\n",
    "\n",
    "import pandas as pd\n",
    "import numpy as np\n",
    "from PIL import Image\n",
    "from urllib.request import urlopen\n",
    "import io\n",
    "from wordcloud import WordCloud\n",
    "from matplotlib.colors import LinearSegmentedColormap\n",
    "import base64\n",
    "import matplotlib.pyplot as plt\n",
    "import plotly.graph_objects as go"
   ]
  },
  {
   "cell_type": "code",
   "execution_count": 2,
   "id": "a47c73a6-c953-4110-bf43-cd9cfa5e2600",
   "metadata": {},
   "outputs": [],
   "source": [
    "# Import dataframe\n",
    "united_df = pd.read_csv('Steam Store Games (Clean dataset)/steam.csv')\n",
    "\n",
    "# rating_difference is needed to determine popular games that users liked or did not like\n",
    "united_df['rating_difference'] = united_df['positive_ratings'] - united_df['negative_ratings']"
   ]
  },
  {
   "cell_type": "code",
   "execution_count": 3,
   "id": "540eb269-2ab0-4087-9a5b-f81de2a82084",
   "metadata": {},
   "outputs": [],
   "source": [
    "# Downloading an image from wikipedia\n",
    "fd = urlopen(\"https://upload.wikimedia.org/wikipedia/commons/8/87/New_Steam_Logo_with_name.jpg\")\n",
    "image_file = io.BytesIO(fd.read())\n",
    "im = Image.open(image_file)\n",
    "\n",
    "# Removing bad games\n",
    "malo_df = united_df.drop(united_df[united_df['rating_difference'] <= 10].index).reset_index(drop=True)\n",
    "\n",
    "# The size of the lettering will depend on the rating\n",
    "dictionary = dict(zip(malo_df.name, malo_df.rating_difference))\n",
    "\n",
    "# cmap creation\n",
    "colors = [\"#000000\", \"#111111\", \"#101010\", \"#121212\", \"#212121\", \"#222222\"]\n",
    "cmap = LinearSegmentedColormap.from_list(\"mycmap\", colors)"
   ]
  },
  {
   "cell_type": "code",
   "execution_count": 4,
   "id": "d2a6467f-21c4-47c5-896d-1f9d30293b1f",
   "metadata": {},
   "outputs": [],
   "source": [
    "# WordCloud creation\n",
    "cloud_full = WordCloud(background_color=\"#FFFFFF\", mask=np.array(im),\n",
    "                       min_font_size=2, max_font_size=30, colormap = cmap,\n",
    "                       max_words=2000).generate_from_frequencies(dictionary)\n",
    "cloud_image_full = cloud_full.to_image()"
   ]
  },
  {
   "cell_type": "code",
   "execution_count": 5,
   "id": "d4421f27-7e19-4884-b29b-b98c6e12b061",
   "metadata": {},
   "outputs": [],
   "source": [
    "# Cropping the picture to highlight the logo\n",
    "im_square = im.crop((0, 0, 695, 695))\n",
    "\n",
    "# Creation of a WordCloud with only logo\n",
    "cloud_square = WordCloud(background_color=\"#FFFFFF\", mask=np.array(im_square),\n",
    "                         min_font_size=2, max_font_size=30, colormap = cmap,\n",
    "                         max_words=2000).generate_from_frequencies(dictionary)\n",
    "cloud_image_square = cloud_square.to_image()"
   ]
  },
  {
   "cell_type": "code",
   "execution_count": 6,
   "id": "fbb7ec2d-8676-4700-89ae-da1f1c6a4e66",
   "metadata": {},
   "outputs": [],
   "source": [
    "# Function for displaying a picture with plotly\n",
    "def plotly_plot(img, img_width, img_height):\n",
    "    fig = go.Figure()\n",
    "    scale_factor = 0.5\n",
    "    # Add invisible scatter trace.\n",
    "    # This trace is added to help the autoresize logic work.\n",
    "    fig.add_trace(\n",
    "        go.Scatter(\n",
    "            x=[0, img_width * scale_factor],\n",
    "            y=[0, img_height * scale_factor],\n",
    "            mode=\"markers\",\n",
    "            marker_opacity=0)\n",
    "    )\n",
    "\n",
    "    # Configure axes\n",
    "    fig.update_xaxes(\n",
    "        visible=False,\n",
    "        range=[0, img_width * scale_factor])\n",
    "\n",
    "    fig.update_yaxes(\n",
    "        visible=False,\n",
    "        range=[0, img_height * scale_factor],\n",
    "        # the scaleanchor attribute ensures that the aspect ratio stays constant\n",
    "        scaleanchor=\"x\")\n",
    "\n",
    "    # Add image\n",
    "    fig.add_layout_image(\n",
    "        dict(\n",
    "            x=0,\n",
    "            sizex=img_width * scale_factor,\n",
    "            y=img_height * scale_factor,\n",
    "            sizey=img_height * scale_factor,\n",
    "            xref=\"x\",\n",
    "            yref=\"y\",\n",
    "            opacity=1.0,\n",
    "            layer=\"below\",\n",
    "            sizing=\"stretch\",\n",
    "            source=img)\n",
    "    )\n",
    "\n",
    "    # Configure other layout\n",
    "    fig.update_layout(\n",
    "        width=img_width * scale_factor,\n",
    "        height=img_height * scale_factor,\n",
    "        margin={\"l\": 0, \"r\": 0, \"t\": 0, \"b\": 0})\n",
    "    \n",
    "    return fig"
   ]
  },
  {
   "cell_type": "code",
   "execution_count": 7,
   "id": "de91ae13-3d8a-4d41-ae6f-5039a1c3e5b1",
   "metadata": {},
   "outputs": [
    {
     "data": {
      "text/html": [
       "<iframe\n",
       "    scrolling=\"no\"\n",
       "    width=\"1106.0px\"\n",
       "    height=\"367.5\"\n",
       "    src=\"iframe_figures/figure_7.html\"\n",
       "    frameborder=\"0\"\n",
       "    allowfullscreen\n",
       "></iframe>\n"
      ]
     },
     "metadata": {},
     "output_type": "display_data"
    }
   ],
   "source": [
    "# Displaying a picture\n",
    "plotly_plot(img = cloud_image_full,\n",
    "            img_width = 2172, img_height = 695).show(config={'doubleClick': 'reset'})"
   ]
  },
  {
   "cell_type": "code",
   "execution_count": 8,
   "id": "3539150a-66b6-463f-b666-934ab130a8c2",
   "metadata": {},
   "outputs": [
    {
     "data": {
      "text/html": [
       "<iframe\n",
       "    scrolling=\"no\"\n",
       "    width=\"367.5px\"\n",
       "    height=\"367.5\"\n",
       "    src=\"iframe_figures/figure_8.html\"\n",
       "    frameborder=\"0\"\n",
       "    allowfullscreen\n",
       "></iframe>\n"
      ]
     },
     "metadata": {},
     "output_type": "display_data"
    }
   ],
   "source": [
    "# Displaying a picture\n",
    "plotly_plot(img = cloud_image_square,\n",
    "            img_width = 695, img_height = 695).show(config={'doubleClick': 'reset'})"
   ]
  },
  {
   "cell_type": "code",
   "execution_count": 21,
   "id": "99756756-25ee-4fb4-9792-cad83ee9240c",
   "metadata": {},
   "outputs": [],
   "source": [
    "# Saving pictures\n",
    "cloud_image_full.save('cloud_image_full.png')\n",
    "cloud_image_square.save('cloud_image_square.png')"
   ]
  }
 ],
 "metadata": {
  "kernelspec": {
   "display_name": "Python 3",
   "language": "python",
   "name": "python3"
  },
  "language_info": {
   "codemirror_mode": {
    "name": "ipython",
    "version": 3
   },
   "file_extension": ".py",
   "mimetype": "text/x-python",
   "name": "python",
   "nbconvert_exporter": "python",
   "pygments_lexer": "ipython3",
   "version": "3.8.4"
  }
 },
 "nbformat": 4,
 "nbformat_minor": 5
}
